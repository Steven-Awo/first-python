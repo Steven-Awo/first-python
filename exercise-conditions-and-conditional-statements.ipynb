{
 "cells": [
  {
   "cell_type": "markdown",
   "id": "ba691251",
   "metadata": {
    "papermill": {
     "duration": 0.012002,
     "end_time": "2023-08-31T13:42:14.483911",
     "exception": false,
     "start_time": "2023-08-31T13:42:14.471909",
     "status": "completed"
    },
    "tags": []
   },
   "source": [
    "**This notebook is an exercise in the [Intro to Programming](https://www.kaggle.com/learn/intro-to-programming) course.  You can reference the tutorial at [this link](https://www.kaggle.com/alexisbcook/conditions-and-conditional-statements).**\n",
    "\n",
    "---\n"
   ]
  },
  {
   "cell_type": "markdown",
   "id": "83bded48",
   "metadata": {
    "papermill": {
     "duration": 0.011377,
     "end_time": "2023-08-31T13:42:14.507345",
     "exception": false,
     "start_time": "2023-08-31T13:42:14.495968",
     "status": "completed"
    },
    "tags": []
   },
   "source": [
    "In the tutorial, you learned about conditions and conditional statements. In this exercise, you will use what you learned to answer several questions.\n",
    "\n",
    "# Set up the notebook\n",
    "\n",
    "Run the next code cell without changes to set up the notebook."
   ]
  },
  {
   "cell_type": "code",
   "execution_count": 1,
   "id": "4e0c4a1f",
   "metadata": {
    "execution": {
     "iopub.execute_input": "2023-08-31T13:42:14.532453Z",
     "iopub.status.busy": "2023-08-31T13:42:14.531628Z",
     "iopub.status.idle": "2023-08-31T13:42:14.589879Z",
     "shell.execute_reply": "2023-08-31T13:42:14.588449Z"
    },
    "papermill": {
     "duration": 0.074222,
     "end_time": "2023-08-31T13:42:14.592887",
     "exception": false,
     "start_time": "2023-08-31T13:42:14.518665",
     "status": "completed"
    },
    "tags": []
   },
   "outputs": [
    {
     "name": "stdout",
     "output_type": "stream",
     "text": [
      "Setup complete.\n"
     ]
    }
   ],
   "source": [
    "from learntools.core import binder\n",
    "binder.bind(globals())\n",
    "from learntools.intro_to_programming.ex4 import *\n",
    "print('Setup complete.')"
   ]
  },
  {
   "cell_type": "code",
   "execution_count": 2,
   "id": "d0589f13",
   "metadata": {
    "execution": {
     "iopub.execute_input": "2023-08-31T13:42:14.617913Z",
     "iopub.status.busy": "2023-08-31T13:42:14.617526Z",
     "iopub.status.idle": "2023-08-31T13:42:14.624405Z",
     "shell.execute_reply": "2023-08-31T13:42:14.623023Z"
    },
    "papermill": {
     "duration": 0.022819,
     "end_time": "2023-08-31T13:42:14.627801",
     "exception": false,
     "start_time": "2023-08-31T13:42:14.604982",
     "status": "completed"
    },
    "tags": []
   },
   "outputs": [
    {
     "name": "stdout",
     "output_type": "stream",
     "text": [
      "Setup complete.\n"
     ]
    }
   ],
   "source": [
    "from learntools.core import binder\n",
    "binder.bind(globals())\n",
    "from learntools.intro_to_programming.ex4 import *\n",
    "print('Setup complete.')"
   ]
  },
  {
   "cell_type": "markdown",
   "id": "28d65fea",
   "metadata": {
    "papermill": {
     "duration": 0.011857,
     "end_time": "2023-08-31T13:42:14.652700",
     "exception": false,
     "start_time": "2023-08-31T13:42:14.640843",
     "status": "completed"
    },
    "tags": []
   },
   "source": [
    "# Question 1\n",
    "\n",
    "You work at a college admissions office.  When inspecting a dataset of college applicants, you notice that some students have represented their grades with letters (`\"A\"`, `\"B\"`, `\"C\"`, `\"D\"`, `\"F\"`), whereas others have represented their grades with a number between 0 and 100.\n",
    "\n",
    "You realize that for consistency, all of the grades should be formatted in the same way, and you decide to format them all as letters.  For the conversion, you decide to assign:\n",
    "- `\"A\"` - any grade 90-100, inclusive\n",
    "- `\"B\"` - any grade 80-89, inclusive\n",
    "- `\"C\"` - any grade 70-79, inclusive\n",
    "- `\"D\"` - any grade 60-69, inclusive\n",
    "- `\"F\"` - any grade <60\n",
    "\n",
    "Write a function `get_grade()` that takes as input:\n",
    "- `score` - an integer 0-100 corresponding to a numerical grade\n",
    "\n",
    "It should return a Python string with the letter grade that it corresponds to.  For instance,\n",
    "- A score of 85 corresponds to a B grade.  In other words, `get_grade(85)` should return `\"B\"`.\n",
    "- A score of 49 corresponds to an F grade.  In other words, `get_grade(49)` should return `\"F\"`.\n",
    "\n",
    "Make sure that when supplying the grade that is returned by the function, it is enclosed in quotes.  (For instance, if you want to return `\"A\"`, you should write `return \"A\"` and not `return A`.)"
   ]
  },
  {
   "cell_type": "code",
   "execution_count": 3,
   "id": "b6d03cc3",
   "metadata": {
    "execution": {
     "iopub.execute_input": "2023-08-31T13:42:14.677737Z",
     "iopub.status.busy": "2023-08-31T13:42:14.677309Z",
     "iopub.status.idle": "2023-08-31T13:42:14.690547Z",
     "shell.execute_reply": "2023-08-31T13:42:14.689379Z"
    },
    "papermill": {
     "duration": 0.028817,
     "end_time": "2023-08-31T13:42:14.693128",
     "exception": false,
     "start_time": "2023-08-31T13:42:14.664311",
     "status": "completed"
    },
    "tags": []
   },
   "outputs": [
    {
     "data": {
      "application/javascript": [
       "parent.postMessage({\"jupyterEvent\": \"custom.exercise_interaction\", \"data\": {\"outcomeType\": 1, \"valueTowardsCompletion\": 0.2, \"interactionType\": 1, \"questionType\": 2, \"questionId\": \"1_GetGrade\", \"learnToolsVersion\": \"0.3.4\", \"failureMessage\": \"\", \"exceptionClass\": \"\", \"trace\": \"\"}}, \"*\")"
      ],
      "text/plain": [
       "<IPython.core.display.Javascript object>"
      ]
     },
     "metadata": {},
     "output_type": "display_data"
    },
    {
     "data": {
      "text/markdown": [
       "<span style=\"color:#33cc33\">Correct</span>"
      ],
      "text/plain": [
       "Correct"
      ]
     },
     "metadata": {},
     "output_type": "display_data"
    }
   ],
   "source": [
    "# TODO: Edit the function to return the correct grade for different scores\n",
    "def get_grade(score):\n",
    "    if score >= 90 and score <= 100:\n",
    "        grade = \"A\"\n",
    "    elif score >= 80 and score < 90:\n",
    "        grade = \"B\"\n",
    "    elif score >= 70 and score < 80:\n",
    "        grade = \"C\"\n",
    "    elif score >= 60 and score < 70:\n",
    "        grade = \"D\"\n",
    "    else:\n",
    "        grade = \"F\"\n",
    "    return grade\n",
    "    \n",
    "# Check your answer\n",
    "q1.check()"
   ]
  },
  {
   "cell_type": "code",
   "execution_count": 4,
   "id": "ed73dd03",
   "metadata": {
    "execution": {
     "iopub.execute_input": "2023-08-31T13:42:14.720865Z",
     "iopub.status.busy": "2023-08-31T13:42:14.719612Z",
     "iopub.status.idle": "2023-08-31T13:42:14.725078Z",
     "shell.execute_reply": "2023-08-31T13:42:14.723963Z"
    },
    "papermill": {
     "duration": 0.022899,
     "end_time": "2023-08-31T13:42:14.728509",
     "exception": false,
     "start_time": "2023-08-31T13:42:14.705610",
     "status": "completed"
    },
    "tags": []
   },
   "outputs": [],
   "source": [
    "# Uncomment to see a hint\n",
    "#q1.hint()\n",
    "\n",
    "# Uncomment to see the solution\n",
    "#q1.solution()"
   ]
  },
  {
   "cell_type": "markdown",
   "id": "02c4e0f5",
   "metadata": {
    "papermill": {
     "duration": 0.012649,
     "end_time": "2023-08-31T13:42:14.754364",
     "exception": false,
     "start_time": "2023-08-31T13:42:14.741715",
     "status": "completed"
    },
    "tags": []
   },
   "source": [
    "# Question 2\n",
    "\n",
    "In the exercise for the previous lesson, you wrote a function `cost_of_project()` that estimated the price of rings for an online shop that sells rings with custom engravings.  This function did not use conditional statements.  In this exercise, you will rewrite the function to use conditional statements.  Recall that the online shop has the following price structure:\n",
    "- Gold plated rings have a base cost of \\\\$50, and you charge \\\\$7 per engraved unit.  \n",
    "- Solid gold rings have a base cost of \\\\$100, and you charge \\\\$10 per engraved unit.\n",
    "- Spaces and punctuation are counted as engraved units.\n",
    "\n",
    "Your function `cost_of_project()` takes two arguments:\n",
    "- `engraving` - a Python string with the text of the engraving\n",
    "- `solid_gold` - a Boolean that indicates whether the ring is solid gold\n",
    "\n",
    "It should return the cost of the project.  \n",
    "\n",
    "The function has been partially completed for you, and you need to fill in the blanks to complete the function."
   ]
  },
  {
   "cell_type": "code",
   "execution_count": 5,
   "id": "07df8a69",
   "metadata": {
    "execution": {
     "iopub.execute_input": "2023-08-31T13:42:14.782150Z",
     "iopub.status.busy": "2023-08-31T13:42:14.781684Z",
     "iopub.status.idle": "2023-08-31T13:42:14.793069Z",
     "shell.execute_reply": "2023-08-31T13:42:14.791867Z"
    },
    "papermill": {
     "duration": 0.028745,
     "end_time": "2023-08-31T13:42:14.795572",
     "exception": false,
     "start_time": "2023-08-31T13:42:14.766827",
     "status": "completed"
    },
    "tags": []
   },
   "outputs": [
    {
     "data": {
      "application/javascript": [
       "parent.postMessage({\"jupyterEvent\": \"custom.exercise_interaction\", \"data\": {\"outcomeType\": 1, \"valueTowardsCompletion\": 0.2, \"interactionType\": 1, \"questionType\": 2, \"questionId\": \"2_CostProjectPartDeux\", \"learnToolsVersion\": \"0.3.4\", \"failureMessage\": \"\", \"exceptionClass\": \"\", \"trace\": \"\"}}, \"*\")"
      ],
      "text/plain": [
       "<IPython.core.display.Javascript object>"
      ]
     },
     "metadata": {},
     "output_type": "display_data"
    },
    {
     "data": {
      "text/markdown": [
       "<span style=\"color:#33cc33\">Correct</span>"
      ],
      "text/plain": [
       "Correct"
      ]
     },
     "metadata": {},
     "output_type": "display_data"
    }
   ],
   "source": [
    "def cost_of_project(engraving, solid_gold):\n",
    "    \n",
    "    if solid_gold == True:\n",
    "        cost = (100 + 10 * len(engraving))\n",
    "    else:\n",
    "        cost = (50 + 7 * len(engraving))\n",
    "    return cost\n",
    "\n",
    "# Check your answer\n",
    "q2.check()"
   ]
  },
  {
   "cell_type": "code",
   "execution_count": 6,
   "id": "27ddcd97",
   "metadata": {
    "execution": {
     "iopub.execute_input": "2023-08-31T13:42:14.823723Z",
     "iopub.status.busy": "2023-08-31T13:42:14.823145Z",
     "iopub.status.idle": "2023-08-31T13:42:14.828006Z",
     "shell.execute_reply": "2023-08-31T13:42:14.826791Z"
    },
    "papermill": {
     "duration": 0.022262,
     "end_time": "2023-08-31T13:42:14.830655",
     "exception": false,
     "start_time": "2023-08-31T13:42:14.808393",
     "status": "completed"
    },
    "tags": []
   },
   "outputs": [],
   "source": [
    "# Uncomment to see a hint\n",
    "#q2.hint()\n",
    "\n",
    "# Uncomment to see the solution\n",
    "#q2.solution()"
   ]
  },
  {
   "cell_type": "markdown",
   "id": "fd462dc0",
   "metadata": {
    "papermill": {
     "duration": 0.012404,
     "end_time": "2023-08-31T13:42:14.855571",
     "exception": false,
     "start_time": "2023-08-31T13:42:14.843167",
     "status": "completed"
    },
    "tags": []
   },
   "source": [
    "# Question 3\n",
    "\n",
    "You are a programmer at a water agency.  Recently, you have been tasked to write a function `get_water_bill()` that takes as input:\n",
    "- `num_gallons` = the number of gallons of water that a customer used that month.  (This will always be an integer with no decimal part.)\n",
    "\n",
    "It should output the water bill.  \n",
    "\n",
    "The water agency uses this pricing structure:\n",
    "<table style=\"width: 100%;\">\n",
    "<tbody>\n",
    "<tr><th><b>Tier</b></th><th><b>Amount in gallons</b></th><th><b>Price per 1000 gallons</b></th></tr>\n",
    "<tr>\n",
    "<td>Tier 1</td>\n",
    "<td>0 - 8,000</td>\n",
    "<td>\\$5</td>\n",
    "</tr>\n",
    "<tr>\n",
    "<td>Tier 2</td>\n",
    "<td>8,001 - 22,000</td>\n",
    "<td>\\$6</td>\n",
    "</tr>\n",
    "<tr>\n",
    "<td>Tier 3</td>\n",
    "<td>22,001 - 30,000</td>\n",
    "<td>\\$7</td>\n",
    "</tr>\n",
    "<tr>\n",
    "<td>Tier 4</td>\n",
    "<td>30,001+</td>\n",
    "<td>\\$10</td>\n",
    "</tr>\n",
    "</tbody>\n",
    "</table>\n",
    "\n",
    "For example: \n",
    "- Someone who uses 10,000 gallons of water in a month is placed in Tier 2, and needs to pay a water bill of \\\\$6 * 10 = \\\\$60.  In other words, `get_water_bill(10000)` should return `60.0`.\n",
    "- Someone who uses 25,000 gallons of water in a month is placed in Tier 3, and needs to pay a water bill of \\\\$7 * 25 = \\\\$175.  In other words, `get_water_bill(25000)` should return `175.0`.\n",
    "\n",
    "**Do not round your answer.**  So, your answer might return fractions of a penny."
   ]
  },
  {
   "cell_type": "code",
   "execution_count": 7,
   "id": "129dee88",
   "metadata": {
    "execution": {
     "iopub.execute_input": "2023-08-31T13:42:14.884625Z",
     "iopub.status.busy": "2023-08-31T13:42:14.884186Z",
     "iopub.status.idle": "2023-08-31T13:42:14.896424Z",
     "shell.execute_reply": "2023-08-31T13:42:14.895411Z"
    },
    "papermill": {
     "duration": 0.028943,
     "end_time": "2023-08-31T13:42:14.898806",
     "exception": false,
     "start_time": "2023-08-31T13:42:14.869863",
     "status": "completed"
    },
    "tags": []
   },
   "outputs": [
    {
     "data": {
      "application/javascript": [
       "parent.postMessage({\"jupyterEvent\": \"custom.exercise_interaction\", \"data\": {\"outcomeType\": 1, \"valueTowardsCompletion\": 0.2, \"interactionType\": 1, \"questionType\": 2, \"questionId\": \"3_GetWaterBill\", \"learnToolsVersion\": \"0.3.4\", \"failureMessage\": \"\", \"exceptionClass\": \"\", \"trace\": \"\"}}, \"*\")"
      ],
      "text/plain": [
       "<IPython.core.display.Javascript object>"
      ]
     },
     "metadata": {},
     "output_type": "display_data"
    },
    {
     "data": {
      "text/markdown": [
       "<span style=\"color:#33cc33\">Correct</span>"
      ],
      "text/plain": [
       "Correct"
      ]
     },
     "metadata": {},
     "output_type": "display_data"
    }
   ],
   "source": [
    "# TODO: Edit the function to return the correct bill for different\n",
    "# values of num_gallons\n",
    "def get_water_bill(num_gallons):\n",
    "    if num_gallons <= 8000:\n",
    "        bill = (num_gallons / 1000) * 5\n",
    "    elif num_gallons > 8000 and num_gallons <= 22000:\n",
    "        bill = (num_gallons / 1000) * 6\n",
    "    elif num_gallons > 22000  and num_gallons <= 30000:\n",
    "        bill = (num_gallons / 1000) * 7\n",
    "    else:\n",
    "        bill = (num_gallons / 1000) * 10 \n",
    "    return bill\n",
    "\n",
    "# Check your answer\n",
    "q3.check()"
   ]
  },
  {
   "cell_type": "code",
   "execution_count": 8,
   "id": "02824d43",
   "metadata": {
    "execution": {
     "iopub.execute_input": "2023-08-31T13:42:14.926612Z",
     "iopub.status.busy": "2023-08-31T13:42:14.926157Z",
     "iopub.status.idle": "2023-08-31T13:42:14.931455Z",
     "shell.execute_reply": "2023-08-31T13:42:14.930281Z"
    },
    "papermill": {
     "duration": 0.022059,
     "end_time": "2023-08-31T13:42:14.933956",
     "exception": false,
     "start_time": "2023-08-31T13:42:14.911897",
     "status": "completed"
    },
    "tags": []
   },
   "outputs": [],
   "source": [
    "# Uncomment to see a hint\n",
    "#q3.hint()\n",
    "\n",
    "# Uncomment to see the solution\n",
    "#q3.solution()"
   ]
  },
  {
   "cell_type": "markdown",
   "id": "e0019598",
   "metadata": {
    "papermill": {
     "duration": 0.013551,
     "end_time": "2023-08-31T13:42:14.961044",
     "exception": false,
     "start_time": "2023-08-31T13:42:14.947493",
     "status": "completed"
    },
    "tags": []
   },
   "source": [
    "# Question 4\n",
    "\n",
    "You work for a company that provides data services.  For \\\\$100/month, your company provides 15 gigabytes (GB) of data.  Then, any additional data is billed at \\\\$0.10/MB (or \\\\$100/GB, since 1,000 MB are in 1 GB).\n",
    "\n",
    "Use the next code cell to write a function `get_phone_bill()` that takes as input:\n",
    "- `gb` = number of GB that the customer used in a month\n",
    "\n",
    "It should return the customer's total phone bill.\n",
    "\n",
    "For instance:\n",
    "- A customer who uses 10 GB of data in one month is billed only \\\\$100, since the usage stayed under 15 GB.  In other words, `get_phone_bill(10)` should return `100`.\n",
    "- A customer who uses 15.1 GB (or 15 GB + 100 MB) of data in one month has gone over by .1 GB, so they must pay \\\\$100 (cost of plan), plus \\\\$0.10 * 100 = \\\\$10, for a total bill of \\\\$110.  In other words, `get_phone_bill(15.1)` should return `110`.\n",
    "\n",
    "Do not round your answer."
   ]
  },
  {
   "cell_type": "code",
   "execution_count": 9,
   "id": "1353fe48",
   "metadata": {
    "execution": {
     "iopub.execute_input": "2023-08-31T13:42:14.989080Z",
     "iopub.status.busy": "2023-08-31T13:42:14.988614Z",
     "iopub.status.idle": "2023-08-31T13:42:14.998663Z",
     "shell.execute_reply": "2023-08-31T13:42:14.997655Z"
    },
    "papermill": {
     "duration": 0.027595,
     "end_time": "2023-08-31T13:42:15.001890",
     "exception": false,
     "start_time": "2023-08-31T13:42:14.974295",
     "status": "completed"
    },
    "tags": []
   },
   "outputs": [
    {
     "data": {
      "application/javascript": [
       "parent.postMessage({\"jupyterEvent\": \"custom.exercise_interaction\", \"data\": {\"outcomeType\": 1, \"valueTowardsCompletion\": 0.2, \"interactionType\": 1, \"questionType\": 2, \"questionId\": \"4_GetPhoneBill\", \"learnToolsVersion\": \"0.3.4\", \"failureMessage\": \"\", \"exceptionClass\": \"\", \"trace\": \"\"}}, \"*\")"
      ],
      "text/plain": [
       "<IPython.core.display.Javascript object>"
      ]
     },
     "metadata": {},
     "output_type": "display_data"
    },
    {
     "data": {
      "text/markdown": [
       "<span style=\"color:#33cc33\">Correct</span>"
      ],
      "text/plain": [
       "Correct"
      ]
     },
     "metadata": {},
     "output_type": "display_data"
    }
   ],
   "source": [
    "# TODO: Edit the function to return the correct bill for different\n",
    "# values of GB\n",
    "def get_phone_bill(gb):\n",
    "    if gb > 15:\n",
    "        bill = 100 + ((((gb) - 15) * 1000) * 0.10)\n",
    "    else:\n",
    "        bill = 100\n",
    "    return bill\n",
    "\n",
    "# Check your answer\n",
    "q4.check()"
   ]
  },
  {
   "cell_type": "code",
   "execution_count": 10,
   "id": "5343da33",
   "metadata": {
    "execution": {
     "iopub.execute_input": "2023-08-31T13:42:15.030575Z",
     "iopub.status.busy": "2023-08-31T13:42:15.030094Z",
     "iopub.status.idle": "2023-08-31T13:42:15.041307Z",
     "shell.execute_reply": "2023-08-31T13:42:15.040031Z"
    },
    "papermill": {
     "duration": 0.028835,
     "end_time": "2023-08-31T13:42:15.043955",
     "exception": false,
     "start_time": "2023-08-31T13:42:15.015120",
     "status": "completed"
    },
    "tags": []
   },
   "outputs": [
    {
     "data": {
      "application/javascript": [
       "parent.postMessage({\"jupyterEvent\": \"custom.exercise_interaction\", \"data\": {\"outcomeType\": 1, \"valueTowardsCompletion\": 0.2, \"interactionType\": 1, \"questionType\": 2, \"questionId\": \"4_GetPhoneBill\", \"learnToolsVersion\": \"0.3.4\", \"failureMessage\": \"\", \"exceptionClass\": \"\", \"trace\": \"\"}}, \"*\")"
      ],
      "text/plain": [
       "<IPython.core.display.Javascript object>"
      ]
     },
     "metadata": {},
     "output_type": "display_data"
    },
    {
     "data": {
      "text/markdown": [
       "<span style=\"color:#33cc33\">Correct</span>"
      ],
      "text/plain": [
       "Correct"
      ]
     },
     "metadata": {},
     "output_type": "display_data"
    }
   ],
   "source": [
    "# TODO: Edit the function to return the correct bill for different\n",
    "# values of GB\n",
    "def get_phone_bill(gb):\n",
    "    if gb > 15:\n",
    "        bill = 100 + ((((gb) - 15) * 1000) * 0.10)\n",
    "    else:\n",
    "        bill = 100\n",
    "    return bill\n",
    "\n",
    "# Check your answer\n",
    "q4.check()"
   ]
  },
  {
   "cell_type": "code",
   "execution_count": 11,
   "id": "34050226",
   "metadata": {
    "execution": {
     "iopub.execute_input": "2023-08-31T13:42:15.073804Z",
     "iopub.status.busy": "2023-08-31T13:42:15.073139Z",
     "iopub.status.idle": "2023-08-31T13:42:15.077917Z",
     "shell.execute_reply": "2023-08-31T13:42:15.076593Z"
    },
    "papermill": {
     "duration": 0.022614,
     "end_time": "2023-08-31T13:42:15.080315",
     "exception": false,
     "start_time": "2023-08-31T13:42:15.057701",
     "status": "completed"
    },
    "tags": []
   },
   "outputs": [],
   "source": [
    "# Uncomment to see a hint\n",
    "#q4.hint()\n",
    "\n",
    "# Uncomment to see the solution\n",
    "#q4.solution()"
   ]
  },
  {
   "cell_type": "markdown",
   "id": "285c6007",
   "metadata": {
    "papermill": {
     "duration": 0.013011,
     "end_time": "2023-08-31T13:42:15.106854",
     "exception": false,
     "start_time": "2023-08-31T13:42:15.093843",
     "status": "completed"
    },
    "tags": []
   },
   "source": [
    "# 🌶️ Question 5\n",
    "\n",
    "In Mexico, foods and beverages that are high in saturated fat, trans fat, sugar, sodium, and/or calories appear with warning labels that are designed to help consumers make healthy food choices.\n",
    "\n",
    "For instance, the [box of cookies](https://world.openfoodfacts.org/product/7501000673209/florentinas-gamesa) in the image below appears with two labels (in the upper right corner):\n",
    "- EXCESO CALORÍAS (in English, EXCESS CALORIES)\n",
    "- EXCESO AZÚCARES (in English, EXCESS SUGAR)\n",
    "\n",
    "<center><img src=\"https://storage.googleapis.com/kaggle-media/learn/images/VXYKHnM.png\" alt=\"drawing\" width=\"500\"/></center>\n",
    "\n",
    "In this question, you'll work with a function `get_labels()` that takes the nutritional details about a food item and prints the needed warning labels.  This function takes several inputs:\n",
    "- `food_type` = one of `\"solid\"` or `\"liquid\"`\n",
    "- `serving_size` = size of one serving (if solid, in grams; if liquid, in milliliters)\n",
    "- `calories_per_serving` = calories in one serving\n",
    "- `saturated_fat_g` = grams of saturated fat in one serving\n",
    "- `trans_fat_g` = grams of trans fat in one serving\n",
    "- `sodium_mg` = mg of sodium in one serving\n",
    "- `sugars_g` = grams of sugar in one serving\n",
    "\n",
    "Note that some of the code here should feel unfamiliar to you, since we have not shared the details of how some of the functions like `excess_sugar()` or `excess_saturated_fat()` work.  But at a high level, these are functions that return a value of `True` if the food is deemed to have an excess of sugar or saturated fat, respectively.  These functions are used within the `get_labels()` function, and whenever there is an excess (of sugar or saturated fat, but also of trans fat, sodium, or calories), it prints the corresponding label."
   ]
  },
  {
   "cell_type": "code",
   "execution_count": 12,
   "id": "b1fab78f",
   "metadata": {
    "execution": {
     "iopub.execute_input": "2023-08-31T13:42:15.135474Z",
     "iopub.status.busy": "2023-08-31T13:42:15.135050Z",
     "iopub.status.idle": "2023-08-31T13:42:15.145781Z",
     "shell.execute_reply": "2023-08-31T13:42:15.144574Z"
    },
    "papermill": {
     "duration": 0.028418,
     "end_time": "2023-08-31T13:42:15.148601",
     "exception": false,
     "start_time": "2023-08-31T13:42:15.120183",
     "status": "completed"
    },
    "tags": []
   },
   "outputs": [],
   "source": [
    "# import functions needed to make get_labels work\n",
    "from learntools.intro_to_programming.ex4q5 import excess_sugar, excess_saturated_fat, excess_trans_fat, excess_sodium, excess_calories\n",
    "\n",
    "def get_labels(food_type, serving_size, calories_per_serving, saturated_fat_g, trans_fat_g, sodium_mg, sugars_g):\n",
    "    # Print messages based on findings\n",
    "    if excess_sugar(sugars_g, calories_per_serving) == True:\n",
    "        print(\"EXCESO AZÚCARES / EXCESS SUGAR\")\n",
    "    if excess_saturated_fat(saturated_fat_g, calories_per_serving) == True:\n",
    "        print(\"EXCESO GRASAS SATURADAS / EXCESS SATURATED FAT\")\n",
    "    if excess_trans_fat(trans_fat_g, calories_per_serving) == True:\n",
    "        print(\"EXCESO GRASAS TRANS / EXCESS TRANS FAT\")\n",
    "    if excess_sodium(calories_per_serving, sodium_mg) == True:\n",
    "        print(\"EXCESO SODIO / EXCESS SODIUM\")\n",
    "    if excess_calories(food_type, calories_per_serving, serving_size) == True:\n",
    "        print(\"EXCESO CALORÍAS / EXCESS CALORIES\")\n",
    "    return (excess_sugar,)"
   ]
  },
  {
   "cell_type": "markdown",
   "id": "568cee94",
   "metadata": {
    "papermill": {
     "duration": 0.013478,
     "end_time": "2023-08-31T13:42:15.176114",
     "exception": false,
     "start_time": "2023-08-31T13:42:15.162636",
     "status": "completed"
    },
    "tags": []
   },
   "source": [
    "The next code cell demonstrates how to use `get_labels()` to get the warning labels that the food item should contain.  We begin with [bologna](https://world.openfoodfacts.org/product/4099100179378/bologna).  Here is [an image](https://storage.googleapis.com/kaggle-media/learn/images/Cfcx72e.png) with all of the nutritional information.  Note that for this food,\n",
    "- `food_type = \"solid\"` (because bologna is a solid and not a liquid)\n",
    "- `serving_size = 32` (the serving size is 32 grams)\n",
    "- `calories_per_serving = 110` (there are 110 calories per serving)\n",
    "- `saturated_fat_g = 2.5` (there are 2.5 grams of saturated fat per serving)\n",
    "- `trans_fat_g = 0` (there are 0 grams of trans fat per serving)\n",
    "- `sodium_mg = 400` (there are 400 mg of sodium per serving)\n",
    "- `sugars_g = 1` (the nutrition facts say <1g, but we will round it up to 1 gram per serving to be safe)\n",
    "\n",
    "By supplying all of these values to the function, we can print the warning labels."
   ]
  },
  {
   "cell_type": "code",
   "execution_count": 13,
   "id": "497cf76f",
   "metadata": {
    "execution": {
     "iopub.execute_input": "2023-08-31T13:42:15.204868Z",
     "iopub.status.busy": "2023-08-31T13:42:15.204455Z",
     "iopub.status.idle": "2023-08-31T13:42:15.213218Z",
     "shell.execute_reply": "2023-08-31T13:42:15.211818Z"
    },
    "papermill": {
     "duration": 0.02592,
     "end_time": "2023-08-31T13:42:15.215672",
     "exception": false,
     "start_time": "2023-08-31T13:42:15.189752",
     "status": "completed"
    },
    "tags": []
   },
   "outputs": [
    {
     "name": "stdout",
     "output_type": "stream",
     "text": [
      "EXCESO GRASAS SATURADAS / EXCESS SATURATED FAT\n",
      "EXCESO SODIO / EXCESS SODIUM\n",
      "EXCESO CALORÍAS / EXCESS CALORIES\n"
     ]
    },
    {
     "data": {
      "text/plain": [
       "(<function learntools.intro_to_programming.ex4q5.excess_sugar(sugars_g, calories_per_serving)>,)"
      ]
     },
     "execution_count": 13,
     "metadata": {},
     "output_type": "execute_result"
    }
   ],
   "source": [
    "# bologna https://world.openfoodfacts.org/product/4099100179378/bologna\n",
    "get_labels(\"solid\", 32, 110, 2.5, 0, 400, 1)"
   ]
  },
  {
   "cell_type": "markdown",
   "id": "c04ec8ef",
   "metadata": {
    "papermill": {
     "duration": 0.013478,
     "end_time": "2023-08-31T13:42:15.244361",
     "exception": false,
     "start_time": "2023-08-31T13:42:15.230883",
     "status": "completed"
    },
    "tags": []
   },
   "source": [
    "This bologna has three labels, printed in the output above.\n",
    "\n",
    "For the rest of this question, you will use the same `get_labels()` function to determine the labels for more foods.  This question is designed to help you get practice with feeling comfortable with code that other people have written, and where you don't have time to review every single line of code before interacting with it.  For instance, when you take the [Intro to Machine Learning course](http://www.kaggle.com/learn/intro-to-machine-learning), you'll work with a Python package called \"scikit-learn\", which is a large collection of code that you'll learn how to run without reviewing all of the code in detail (as it would take too long, and you can trust that it was implemented correctly).\n",
    "\n",
    "In general, as you continue coding in Python, you will often be running code that other people have written.  This is common practice for advanced programmers.\n",
    "\n",
    "In the next code cell, fill in the values for [this cereal](https://world.openfoodfacts.org/product/7501008023624/zucaritas-kellogg-s).  Here is [an image](https://storage.googleapis.com/kaggle-media/learn/images/MUxzHVU.png) with all of the nutritional information.\n",
    "\n",
    "**Note**: running the line of code below as-is will return an error.  You have to fill in the nutritional values first."
   ]
  },
  {
   "cell_type": "code",
   "execution_count": 14,
   "id": "9ea381b7",
   "metadata": {
    "execution": {
     "iopub.execute_input": "2023-08-31T13:42:15.273589Z",
     "iopub.status.busy": "2023-08-31T13:42:15.273186Z",
     "iopub.status.idle": "2023-08-31T13:42:15.281648Z",
     "shell.execute_reply": "2023-08-31T13:42:15.280648Z"
    },
    "papermill": {
     "duration": 0.025662,
     "end_time": "2023-08-31T13:42:15.283715",
     "exception": false,
     "start_time": "2023-08-31T13:42:15.258053",
     "status": "completed"
    },
    "tags": []
   },
   "outputs": [
    {
     "name": "stdout",
     "output_type": "stream",
     "text": [
      "EXCESO GRASAS SATURADAS / EXCESS SATURATED FAT\n",
      "EXCESO SODIO / EXCESS SODIUM\n",
      "EXCESO CALORÍAS / EXCESS CALORIES\n"
     ]
    },
    {
     "data": {
      "text/plain": [
       "(<function learntools.intro_to_programming.ex4q5.excess_sugar(sugars_g, calories_per_serving)>,)"
      ]
     },
     "execution_count": 14,
     "metadata": {},
     "output_type": "execute_result"
    }
   ],
   "source": [
    "# zucaritas cereal https://world.openfoodfacts.org/product/7501008023624/zucaritas-kellogg-s\n",
    "# TODO: Uncomment the line below, fill in the values, and run the function\n",
    "get_labels(\"solid\", 32, 110, 2.5, 0, 400, 1)"
   ]
  },
  {
   "cell_type": "markdown",
   "id": "0bc43a09",
   "metadata": {
    "papermill": {
     "duration": 0.013562,
     "end_time": "2023-08-31T13:42:15.311030",
     "exception": false,
     "start_time": "2023-08-31T13:42:15.297468",
     "status": "completed"
    },
    "tags": []
   },
   "source": [
    "Next, try [these mozzarella sticks](https://world-es.openfoodfacts.org/producto/0062325540104/mozzarella-cheese-sticks).  Here is [an image](https://storage.googleapis.com/kaggle-media/learn/images/rcdB7VH.png) with all of the nutritional information."
   ]
  },
  {
   "cell_type": "code",
   "execution_count": 15,
   "id": "241853c2",
   "metadata": {
    "execution": {
     "iopub.execute_input": "2023-08-31T13:42:15.340575Z",
     "iopub.status.busy": "2023-08-31T13:42:15.340139Z",
     "iopub.status.idle": "2023-08-31T13:42:15.348543Z",
     "shell.execute_reply": "2023-08-31T13:42:15.347436Z"
    },
    "papermill": {
     "duration": 0.026093,
     "end_time": "2023-08-31T13:42:15.350888",
     "exception": false,
     "start_time": "2023-08-31T13:42:15.324795",
     "status": "completed"
    },
    "tags": []
   },
   "outputs": [
    {
     "name": "stdout",
     "output_type": "stream",
     "text": [
      "EXCESO GRASAS SATURADAS / EXCESS SATURATED FAT\n",
      "EXCESO SODIO / EXCESS SODIUM\n",
      "EXCESO CALORÍAS / EXCESS CALORIES\n"
     ]
    },
    {
     "data": {
      "text/plain": [
       "(<function learntools.intro_to_programming.ex4q5.excess_sugar(sugars_g, calories_per_serving)>,)"
      ]
     },
     "execution_count": 15,
     "metadata": {},
     "output_type": "execute_result"
    }
   ],
   "source": [
    "# mozzarella sticks https://world-es.openfoodfacts.org/producto/0062325540104/mozzarella-cheese-sticks\n",
    "# TODO: Uncomment the line below, fill in the values, and run the function\n",
    "get_labels(\"solid\", 32, 110, 2.5, 0, 400, 1)"
   ]
  },
  {
   "cell_type": "markdown",
   "id": "3e1b81dd",
   "metadata": {
    "papermill": {
     "duration": 0.014614,
     "end_time": "2023-08-31T13:42:15.380057",
     "exception": false,
     "start_time": "2023-08-31T13:42:15.365443",
     "status": "completed"
    },
    "tags": []
   },
   "source": [
    "Feel free to skip to the end of the notebook now and run `q5.check()` to complete the exercise.  If you want to try more foods, \n",
    "- try [these cookies](https://world.openfoodfacts.org/product/0069700118545/biscuits-au-sucre-pretraches).  Here is [an image](https://storage.googleapis.com/kaggle-media/learn/images/2Bc271o.png) with all of the nutritional information.\n",
    "- try [this soda](https://world-es.openfoodfacts.org/producto/0078000113464/orange-soda-sunkist).  Here is [an image](https://storage.googleapis.com/kaggle-media/learn/images/RsBYa8E.png) with all of the nutritional information.\n",
    "\n",
    "Use the two code cells below for this."
   ]
  },
  {
   "cell_type": "code",
   "execution_count": 16,
   "id": "91d99e29",
   "metadata": {
    "execution": {
     "iopub.execute_input": "2023-08-31T13:42:15.410165Z",
     "iopub.status.busy": "2023-08-31T13:42:15.409692Z",
     "iopub.status.idle": "2023-08-31T13:42:15.418267Z",
     "shell.execute_reply": "2023-08-31T13:42:15.417102Z"
    },
    "papermill": {
     "duration": 0.026343,
     "end_time": "2023-08-31T13:42:15.420558",
     "exception": false,
     "start_time": "2023-08-31T13:42:15.394215",
     "status": "completed"
    },
    "tags": []
   },
   "outputs": [
    {
     "name": "stdout",
     "output_type": "stream",
     "text": [
      "EXCESO GRASAS SATURADAS / EXCESS SATURATED FAT\n",
      "EXCESO SODIO / EXCESS SODIUM\n",
      "EXCESO CALORÍAS / EXCESS CALORIES\n"
     ]
    },
    {
     "data": {
      "text/plain": [
       "(<function learntools.intro_to_programming.ex4q5.excess_sugar(sugars_g, calories_per_serving)>,)"
      ]
     },
     "execution_count": 16,
     "metadata": {},
     "output_type": "execute_result"
    }
   ],
   "source": [
    "# pillsbury cookies https://world.openfoodfacts.org/product/0069700118545/biscuits-au-sucre-pretraches\n",
    "# TODO: Uncomment the line below, fill in the values, and run the function\n",
    "get_labels(\"solid\", 32, 110, 2.5, 0, 400, 1)"
   ]
  },
  {
   "cell_type": "code",
   "execution_count": 17,
   "id": "5fe32838",
   "metadata": {
    "execution": {
     "iopub.execute_input": "2023-08-31T13:42:15.451708Z",
     "iopub.status.busy": "2023-08-31T13:42:15.451267Z",
     "iopub.status.idle": "2023-08-31T13:42:15.459648Z",
     "shell.execute_reply": "2023-08-31T13:42:15.458208Z"
    },
    "papermill": {
     "duration": 0.027827,
     "end_time": "2023-08-31T13:42:15.463178",
     "exception": false,
     "start_time": "2023-08-31T13:42:15.435351",
     "status": "completed"
    },
    "tags": []
   },
   "outputs": [
    {
     "name": "stdout",
     "output_type": "stream",
     "text": [
      "EXCESO GRASAS SATURADAS / EXCESS SATURATED FAT\n",
      "EXCESO SODIO / EXCESS SODIUM\n",
      "EXCESO CALORÍAS / EXCESS CALORIES\n"
     ]
    },
    {
     "data": {
      "text/plain": [
       "(<function learntools.intro_to_programming.ex4q5.excess_sugar(sugars_g, calories_per_serving)>,)"
      ]
     },
     "execution_count": 17,
     "metadata": {},
     "output_type": "execute_result"
    }
   ],
   "source": [
    "# sunkist orange soda https://world-es.openfoodfacts.org/producto/0078000113464/orange-soda-sunkist\n",
    "# TODO: Uncomment the line below, fill in the values, and run the function\n",
    "get_labels(\"solid\", 32, 110, 2.5, 0, 400, 1)"
   ]
  },
  {
   "cell_type": "markdown",
   "id": "bdfd10a6",
   "metadata": {
    "papermill": {
     "duration": 0.014467,
     "end_time": "2023-08-31T13:42:15.492299",
     "exception": false,
     "start_time": "2023-08-31T13:42:15.477832",
     "status": "completed"
    },
    "tags": []
   },
   "source": [
    "Once you have finished investigating the food items in this question, run the final code cell to get credit for completing this problem."
   ]
  },
  {
   "cell_type": "code",
   "execution_count": 18,
   "id": "3bfd6175",
   "metadata": {
    "execution": {
     "iopub.execute_input": "2023-08-31T13:42:15.523365Z",
     "iopub.status.busy": "2023-08-31T13:42:15.522941Z",
     "iopub.status.idle": "2023-08-31T13:42:15.531288Z",
     "shell.execute_reply": "2023-08-31T13:42:15.530418Z"
    },
    "papermill": {
     "duration": 0.026721,
     "end_time": "2023-08-31T13:42:15.533582",
     "exception": false,
     "start_time": "2023-08-31T13:42:15.506861",
     "status": "completed"
    },
    "tags": []
   },
   "outputs": [
    {
     "data": {
      "application/javascript": [
       "parent.postMessage({\"jupyterEvent\": \"custom.exercise_interaction\", \"data\": {\"outcomeType\": 1, \"valueTowardsCompletion\": 0.2, \"interactionType\": 1, \"questionType\": 2, \"questionId\": \"5_GetLabels\", \"learnToolsVersion\": \"0.3.4\", \"failureMessage\": \"\", \"exceptionClass\": \"\", \"trace\": \"\"}}, \"*\")"
      ],
      "text/plain": [
       "<IPython.core.display.Javascript object>"
      ]
     },
     "metadata": {},
     "output_type": "display_data"
    },
    {
     "data": {
      "text/markdown": [
       "<span style=\"color:#33cc33\">Once you have determined the labels for all of the food items, you're ready to move on to the next lesson!</span>"
      ],
      "text/plain": [
       "Once you have determined the labels for all of the food items, you're ready to move on to the next lesson!"
      ]
     },
     "metadata": {},
     "output_type": "display_data"
    }
   ],
   "source": [
    "# Get credit for completing the problem\n",
    "q5.check()"
   ]
  },
  {
   "cell_type": "markdown",
   "id": "2d5ed6c7",
   "metadata": {
    "papermill": {
     "duration": 0.014827,
     "end_time": "2023-08-31T13:42:15.563529",
     "exception": false,
     "start_time": "2023-08-31T13:42:15.548702",
     "status": "completed"
    },
    "tags": []
   },
   "source": [
    "# Keep going\n",
    "\n",
    "Continue to the next lesson to **[learn about Python lists](https://www.kaggle.com/alexisbcook/intro-to-lists)**."
   ]
  },
  {
   "cell_type": "markdown",
   "id": "cded049c",
   "metadata": {
    "papermill": {
     "duration": 0.015326,
     "end_time": "2023-08-31T13:42:15.594835",
     "exception": false,
     "start_time": "2023-08-31T13:42:15.579509",
     "status": "completed"
    },
    "tags": []
   },
   "source": [
    "---\n",
    "\n",
    "\n",
    "\n",
    "\n",
    "*Have questions or comments? Visit the [course discussion forum](https://www.kaggle.com/learn/intro-to-programming/discussion) to chat with other learners.*"
   ]
  }
 ],
 "kernelspec": {
  "display_name": "Python 3",
  "language": "python",
  "name": "python3"
 },
 "language_info": {
  "codemirror_mode": {
   "name": "ipython",
   "version": 3
  },
  "file_extension": ".py",
  "mimetype": "text/x-python",
  "name": "python",
  "nbconvert_exporter": "python",
  "pygments_lexer": "ipython3",
  "version": "3.6.4"
 },
 "metadata": {
  "kernelspec": {
   "display_name": "Python 3",
   "language": "python",
   "name": "python3"
  },
  "language_info": {
   "codemirror_mode": {
    "name": "ipython",
    "version": 3
   },
   "file_extension": ".py",
   "mimetype": "text/x-python",
   "name": "python",
   "nbconvert_exporter": "python",
   "pygments_lexer": "ipython3",
   "version": "3.10.12"
  },
  "papermill": {
   "default_parameters": {},
   "duration": 14.635631,
   "end_time": "2023-08-31T13:42:16.533400",
   "environment_variables": {},
   "exception": null,
   "input_path": "__notebook__.ipynb",
   "output_path": "__notebook__.ipynb",
   "parameters": {},
   "start_time": "2023-08-31T13:42:01.897769",
   "version": "2.4.0"
  }
 },
 "nbformat": 4,
 "nbformat_minor": 5
}
